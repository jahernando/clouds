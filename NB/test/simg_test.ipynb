{
 "cells": [
  {
   "cell_type": "markdown",
   "metadata": {},
   "source": [
    "## test simg\n",
    "\n",
    "\n",
    "### JAH, June 2021"
   ]
  },
  {
   "cell_type": "code",
   "execution_count": 48,
   "metadata": {},
   "outputs": [],
   "source": [
    "%matplotlib inline\n",
    "#%matplotlib notebook\n",
    "%reload_ext autoreload\n",
    "%autoreload 2"
   ]
  },
  {
   "cell_type": "code",
   "execution_count": 49,
   "metadata": {},
   "outputs": [],
   "source": [
    "import numpy             as np\n",
    "import scipy.ndimage     as ndimg\n",
    "\n",
    "import matplotlib.pyplot as plt\n",
    "\n",
    "import clouds.utils      as cu\n",
    "import clouds.simg       as  simg\n",
    "import clouds.test_simg  as tsimg\n",
    "#import clouds.sclouds    as sclouds\n",
    "#import clouds.dclouds    as dclouds\n",
    "from   clouds.pclouds    import fig, efig, ax3d, scatter, voxels, quiver\n",
    "#import clouds.testclouds as tclouds\n",
    "\n",
    "import clouds.sources      as sources\n",
    "\n",
    "#import clouds.test_sources as tsources\n",
    "#import clouds.test_sclouds as tsclouds\n",
    "#import clouds.test_dclouds as tdclouds"
   ]
  },
  {
   "cell_type": "code",
   "execution_count": 50,
   "metadata": {},
   "outputs": [
    {
     "name": "stdout",
     "output_type": "stream",
     "text": [
      " Last revision  Fri Jun 25 18:50:16 2021\n"
     ]
    }
   ],
   "source": [
    "plt.rcParams['image.cmap'] = 'rainbow'\n",
    "\n",
    "import warnings\n",
    "warnings.filterwarnings('ignore')\n",
    "\n",
    "import time\n",
    "print(' Last revision ', time.asctime())"
   ]
  },
  {
   "cell_type": "code",
   "execution_count": 51,
   "metadata": {},
   "outputs": [
    {
     "name": "stdout",
     "output_type": "stream",
     "text": [
      "dir  0 0.9999999999999986 1\n",
      "dir  1 -0.9999999999999986 -1\n",
      "hess [ 0 0 ] =  1.0 , mean  1.0000000000000377\n",
      "hess [ 0 1 ] =  0.0 , mean  0.0\n",
      "hess [ 1 0 ] =  0.0 , mean  0.0\n",
      "hess [ 1 1 ] =  -1.0 , mean  -1.0000000000000377\n",
      "laplacian =  0.0 , mean  0.0\n",
      "det hessian =  -1.0 , mean  -1.0000000000000757\n",
      " curvature i  [0. 1.]  curv0  -0.5 mean curv -0.5000000000000098\n",
      " curvature i  [1. 0.]  curv0  0.5 mean curv 0.5000000000000098\n",
      "sum curvatures  -0.500000000000117 , lap  -0.5\n",
      " min curv  -1.0 , min curv  -1.0000000000000195\n",
      " i-coor  0  edir  0.0 0.0\n",
      " i-coor  1  edir  1.0 1.0\n",
      " min transv curv0  -1.0 , min curv  -1.0000000000000195\n",
      " mag 1.0\n"
     ]
    }
   ],
   "source": [
    "tsimg.test_gradient()\n",
    "tsimg.test_hessian()\n",
    "tsimg.test_laplacian()\n",
    "tsimg.test_det_hessian()\n",
    "tsimg.test_curvature()\n",
    "tsimg.test_curvatures()\n",
    "tsimg.test_min_curvature()\n",
    "tsimg.test_min_transverse_curvature()"
   ]
  },
  {
   "cell_type": "code",
   "execution_count": null,
   "metadata": {},
   "outputs": [],
   "source": []
  }
 ],
 "metadata": {
  "kernelspec": {
   "display_name": "Python 3",
   "language": "python",
   "name": "python3"
  },
  "language_info": {
   "codemirror_mode": {
    "name": "ipython",
    "version": 3
   },
   "file_extension": ".py",
   "mimetype": "text/x-python",
   "name": "python",
   "nbconvert_exporter": "python",
   "pygments_lexer": "ipython3",
   "version": "3.7.9"
  }
 },
 "nbformat": 4,
 "nbformat_minor": 4
}
