{
 "cells": [
  {
   "cell_type": "markdown",
   "metadata": {},
   "source": [
    "## test simg\n",
    "\n",
    "\n",
    "### JAH, June 2021"
   ]
  },
  {
   "cell_type": "code",
   "execution_count": 53,
   "metadata": {},
   "outputs": [],
   "source": [
    "%matplotlib inline\n",
    "#%matplotlib notebook\n",
    "%reload_ext autoreload\n",
    "%autoreload 2"
   ]
  },
  {
   "cell_type": "code",
   "execution_count": 54,
   "metadata": {},
   "outputs": [],
   "source": [
    "import numpy             as np\n",
    "import scipy.ndimage     as ndimg\n",
    "\n",
    "import matplotlib.pyplot as plt\n",
    "\n",
    "import clouds.utils      as cu\n",
    "\n",
    "import clouds.simg       as  simg\n",
    "import clouds.rimg       as  rimg\n",
    "\n",
    "import clouds.test_simg  as tsimg\n",
    "import clouds.test_rimg  as trimg\n",
    "\n",
    "#import clouds.sclouds    as sclouds\n",
    "#import clouds.dclouds    as dclouds\n",
    "from   clouds.pclouds    import fig, efig, ax3d, scatter, voxels, quiver\n",
    "#import clouds.testclouds as tclouds\n",
    "\n",
    "import clouds.sources      as sources\n",
    "\n",
    "#import clouds.test_sources as tsources\n",
    "#import clouds.test_sclouds as tsclouds\n",
    "#import clouds.test_dclouds as tdclouds"
   ]
  },
  {
   "cell_type": "code",
   "execution_count": 55,
   "metadata": {},
   "outputs": [
    {
     "name": "stdout",
     "output_type": "stream",
     "text": [
      " Last revision  Mon Jun 28 23:33:15 2021\n"
     ]
    }
   ],
   "source": [
    "plt.rcParams['image.cmap'] = 'rainbow'\n",
    "\n",
    "import warnings\n",
    "warnings.filterwarnings('ignore')\n",
    "\n",
    "import time\n",
    "print(' Last revision ', time.asctime())"
   ]
  },
  {
   "cell_type": "markdown",
   "metadata": {},
   "source": [
    "### Test simg basic"
   ]
  },
  {
   "cell_type": "code",
   "execution_count": 56,
   "metadata": {},
   "outputs": [
    {
     "name": "stdout",
     "output_type": "stream",
     "text": [
      "dir  0 0.9999999999999986 1\n",
      "dir  1 -0.9999999999999986 -1\n",
      "hess [ 0 0 ] =  1.0 , mean  1.0000000000000377\n",
      "hess [ 0 1 ] =  0.0 , mean  0.0\n",
      "hess [ 1 0 ] =  0.0 , mean  0.0\n",
      "hess [ 1 1 ] =  -1.0 , mean  -1.0000000000000377\n",
      "det hessian =  -1.0 , mean  -1.0000000000000757\n",
      " curvature i  [0. 1.]  curv0  -0.5 mean curv -0.5000000000000098\n",
      " curvature i  [1. 0.]  curv0  0.5 mean curv 0.5000000000000098\n",
      "sum curvatures  -0.500000000000117 , lap  -0.5\n",
      "laplacian =  0.0 , mean  0.0\n",
      " min curv  -1.0 , min curv  -1.0000000000000195\n",
      " i-coor  0  edir  0.0 0.0\n",
      " i-coor  1  edir  1.0 1.0\n",
      " min transv curv0  -1.0 , min curv  -1.0000000000000195\n",
      " mag 1.0\n"
     ]
    }
   ],
   "source": [
    "tsimg.test_gradient()\n",
    "tsimg.test_hessian()\n",
    "tsimg.test_det_hessian()\n",
    "tsimg.test_curvature()\n",
    "tsimg.test_curvatures()\n",
    "tsimg.test_laplacian()\n",
    "tsimg.test_min_curvature()\n",
    "tsimg.test_min_transverse_curvature()\n",
    "tsimg.test_transverse_curvatures()"
   ]
  },
  {
   "cell_type": "markdown",
   "metadata": {},
   "source": [
    "### test simg filters"
   ]
  },
  {
   "cell_type": "code",
   "execution_count": 57,
   "metadata": {},
   "outputs": [
    {
     "name": "stdout",
     "output_type": "stream",
     "text": [
      "mean  39.5 40\n",
      "mean  39.5 40\n",
      "ridge  3.9603960396039604 4\n",
      "ridge  3.9603960396039604 4\n",
      "mean  1.6424885539281326 std 0.33204456600328514\n"
     ]
    }
   ],
   "source": [
    "tsimg.test_edge_filter()\n",
    "tsimg.test_ridge_lambda_filter()\n",
    "tsimg.test_ridge_filter()\n",
    "tsimg.test_node_filter()\n",
    "tsimg.test_blob_filter()\n",
    "tsimg.test_nlap_scan()"
   ]
  },
  {
   "cell_type": "markdown",
   "metadata": {},
   "source": [
    "### test rimg basic"
   ]
  },
  {
   "cell_type": "code",
   "execution_count": 83,
   "metadata": {},
   "outputs": [
    {
     "name": "stdout",
     "output_type": "stream",
     "text": [
      " vgrad  1.4142135623731011 1.4142135623730951\n",
      " grad [ 0 ] 1.0 1\n",
      " grad [ 1 ] 1.0 1\n",
      "True 4\n",
      "curve  0.5  mean  0.5000000000000613\n",
      "curve  0.5  mean  0.5000000000000062\n",
      "curve  0.5  mean  0.49999999999998834\n",
      "curve  0.5  mean  0.5000000000000613\n",
      "False 2\n",
      "curve  0.5  mean  0.5000000000000613\n",
      "curve  0.5  mean  0.5000000000000613\n",
      " curv0  -1.0 , min curv  -1.000000000000048\n",
      " i-coor  0  edir  0 0.0\n",
      " i-coor  1  edir  1 1.0\n",
      "lap0 2.0  mean lap  2.0000000000001172\n",
      "lap0 1.0  mean lap  1.0000000000001226\n",
      " curv0  -1.0 , min curv  -1.000000000000048\n",
      " i-coor  0  edir  0 0.0\n",
      " i-coor  1  edir  1 1.0\n",
      "edir  [1 0]  curvt0  0.5  mean curv  0.5000000000003642\n",
      "edir  [1 1]  curvt0  0.5  mean curv  0.5000000000002225\n",
      "edir  [ 1 -1]  curvt0  0.5  mean curv  0.5000000000002238\n",
      "edir  [0 1]  curvt0  0.5  mean curv  0.5000000000003642\n"
     ]
    }
   ],
   "source": [
    "trimg.test_gradient()\n",
    "trimg.test_curvature()\n",
    "trimg.test_curvatures()\n",
    "trimg.test_min_curvature()\n",
    "trimg.test_laplacian()\n",
    "trimg.test_min_curvature()\n",
    "trimg.test_transverse_curvature()\n",
    "#trimg.test_min_transverse_curvature()\n",
    "#trimg.test_transverse_curvatures()"
   ]
  },
  {
   "cell_type": "code",
   "execution_count": 82,
   "metadata": {
    "scrolled": false
   },
   "outputs": [
    {
     "name": "stdout",
     "output_type": "stream",
     "text": [
      "edir  [1 0]  curvt0  -0.5  mean curv  -0.500000000000024\n",
      "edir  [1 1]  curvt0  0.0  mean curv  0.0\n",
      "edir  [ 1 -1]  curvt0  0.0  mean curv  0.0\n",
      "edir  [0 1]  curvt0  0.5  mean curv  0.500000000000024\n"
     ]
    }
   ],
   "source": [
    "nbins   = 51\n",
    "ranges  = ((-1, 1), (-1, 1))\n",
    "b       = (1, -1)\n",
    "c       = (0,)\n",
    "atol    = 5e-2\n",
    "nborder = 2\n",
    "    \n",
    "ndim          = len(b)  \n",
    "assert len(ranges) == ndim, 'not valid number of ranges'\n",
    "    \n",
    "fun, _, hess  = sources.taylor(b = b, c = c)\n",
    "img, bins     = sources.from_function(fun, nbins, ranges)\n",
    "img          +=  1 - np.min(img) \n",
    "steps         = cu.ut_steps(bins)\n",
    "center = tuple([[nborder, -nborder] for i in range(ndim)])\n",
    "    \n",
    "    \n",
    "moves = rimg.moves_face(ndim)\n",
    "for move in moves:\n",
    "    curt0  = trimg._dcurv_trans(hess, move, steps)\n",
    "    curt   = rimg .transverse_curvature(img, move, steps)\n",
    "    print('edir ', move, ' curvt0 ', curt0, ' mean curv ', np.mean(curt[center]))"
   ]
  },
  {
   "cell_type": "code",
   "execution_count": null,
   "metadata": {},
   "outputs": [],
   "source": [
    "npoints = 2\n",
    "sigma   = 2\n",
    "img, points = sources.points(npoints = npoints)\n",
    "ximg        = ndimg.gaussian_filter(img, sigma) if sigma > 0 else img \n",
    "    \n",
    "mask        = ximg > 0\n",
    "xfil        = simg.blob_filter(ximg, mask = mask)\n",
    "    \n",
    "fig(1, 2)\n",
    "plt.subplot(1, 2, 1); voxels(ximg); plt.title('s img')\n",
    "plt.subplot(1, 2, 2); voxels(xfil); plt.title('filter')\n",
    "\n",
    "img = img.astype(bool)"
   ]
  },
  {
   "cell_type": "code",
   "execution_count": null,
   "metadata": {},
   "outputs": [],
   "source": [
    "lap, _ = simg.normal_laplacian(ximg, 2 * sigma)\n",
    "sigmas = np.linspace(0, 4, 10)\n",
    "sigmax, lapmax, laps = simg.nlap_scan(ximg, sigmas)\n",
    "tsimg.test_nlap_scan()"
   ]
  },
  {
   "cell_type": "code",
   "execution_count": null,
   "metadata": {},
   "outputs": [],
   "source": [
    "ndim   = len(ranges)\n",
    "y0     = 4\n",
    "fun    = lambda x : x[0] - (x[1] - y0)**2\n",
    "ranges = ((0, 10), (0, 10))\n",
    "nbins  = 81\n",
    "\n",
    "img, bins = sources.from_function(fun, nbins, ranges)\n",
    "steps     = [bin[1] - bin[0] for bin in bins]\n",
    "center    = tuple([[nborder, -nborder] for i in range(ndim)])\n",
    "\n",
    "fig(2, 2)\n",
    "plt.subplot(2, 2, 1); voxels(img, bins); plt.title('img');\n",
    "\n",
    "\n",
    "ndim  = img.ndim\n",
    "shape = img.shape\n",
    "mask  = np.full(shape, True)\n",
    "\n",
    "grad, gdir = simg.gradient(img, steps) \n",
    "curv0, edir = simg.min_transverse_curvature(img, steps)\n",
    "sel0 = curv0 < 0\n",
    "print('sel 0', np.sum(sel0))\n",
    "\n",
    "\n",
    "hess  = simg.hessian(img, steps)\n",
    "print(hess.shape, edir.shape, gdir.shape)\n",
    "\n",
    "ndim = img.ndim\n",
    "curv = np.zeros(img.shape)\n",
    "for i in range(ndim):\n",
    "    for j in range(ndim):\n",
    "        curv += hess[i, j] * edir[i] * edir[j]\n",
    "print(curv.shape)\n",
    "\n",
    "xsel = mask\n",
    "ls   = simg.transverse_curvatures(img, edir, steps)\n",
    "\n",
    "fig(1, 2)\n",
    "plt.subplot(1, 2, 1); voxels(curv0); plt.title('min curv t')\n",
    "plt.subplot(1, 2, 2); voxels(ls[0]); plt.title('curv t')\n",
    "\n",
    "print(len(ls))\n",
    "for li in ls:\n",
    "    xsel = (xsel) & (li < 0)\n",
    "    print(np.sum(xsel))\n",
    "#    xsel = (xsel) & (ls[i] < 0)\n",
    "#    xsel = (xsel) & (np.abs(ls[-2]) > ls[-1])\n",
    "#    cond = np.isclose(np.abs(np.sum(gdir * edir, axis = 0)), 1, atol = atol)\n",
    "#    xsel = (xsel) & (cond)\n",
    "        \n",
    "\n",
    "xfil, rv = simg.ridge_filter(img, steps)\n",
    "    \n",
    "\n",
    "fig(1, 2)\n",
    "plt.subplot(1, 2, 1); voxels(xfil); plt.title('ridge filter')\n",
    "plt.subplot(1, 2, 2); voxels(rv); plt.title('rv')"
   ]
  },
  {
   "cell_type": "code",
   "execution_count": null,
   "metadata": {},
   "outputs": [],
   "source": [
    "ndim   = len(ranges)\n",
    "y0     = 4\n",
    "fun    = lambda x : x[0] - (x[1] - y0)**2\n",
    "ranges = ((0, 10), (0, 10))\n",
    "nbins  = 81\n",
    "\n",
    "img, bins = sources.from_function(fun, nbins, ranges)\n",
    "steps     = [bin[1] - bin[0] for bin in bins]\n",
    "center    = tuple([[nborder, -nborder] for i in range(ndim)])\n",
    "\n",
    "fig(2, 2)\n",
    "plt.subplot(2, 2, 1); voxels(img, bins); plt.title('img');\n",
    "\n",
    "grad, gdir = simg.gradient(img, steps) \n",
    "curv, edir = simg.min_curvature(img, steps)\n",
    "plt.subplot(2, 2, 2); voxels(curv, bins); plt.title('min curv');\n",
    "\n",
    "xfil, rv   = simg.ridge_lambda_filter(img, steps)\n",
    "\n",
    "plt.subplot(2, 2, 3); voxels(xfil, bins); plt.title('ridge filter');\n",
    "plt.subplot(2, 2, 4); voxels(rv, bins)  ; plt.title('rv');\n",
    "\n",
    "xi = [x[1] for x in np.argwhere(xfil == True)]\n",
    "print(steps[1] * np.mean(xi), y0)\n",
    "assert np.isclose(steps[1] * np.mean(xi), y0, atol = 5e-2), 'Not good ridge lambda'\n",
    "\n",
    "#print(ls)"
   ]
  },
  {
   "cell_type": "code",
   "execution_count": null,
   "metadata": {},
   "outputs": [],
   "source": [
    "ndim   = len(ranges)\n",
    "fun    = lambda x : x[0] - (x[1] - y0)**2\n",
    "ranges = ((0, 10), (0, 10))\n",
    "nbins  = 81\n",
    "\n",
    "img, bins = sources.from_function(fun, nbins, ranges)\n",
    "steps     = [bin[1] - bin[0] for bin in bins]\n",
    "\n",
    "center = tuple([[nborder, -nborder] for i in range(ndim)])\n",
    "\n",
    "xfil, rv  = simg.ridge_filter(img, steps)"
   ]
  },
  {
   "cell_type": "code",
   "execution_count": null,
   "metadata": {
    "scrolled": false
   },
   "outputs": [],
   "source": [
    "nborder = 5\n",
    "\n",
    "sigma  = 4\n",
    "nbins  = 81\n",
    "a0, a1 = -10, 10\n",
    "y0     = 4\n",
    "ranges = ((a0-1, a1 + 1), (0, 10))\n",
    "\n",
    "img  = np.zeros((nbins, nbins))\n",
    "n0  = int(nbins/2)\n",
    "img[:, n0:] = 1\n",
    "\n",
    "\n",
    "print(img.shape)\n",
    "img =  ndimg.gaussian_filter(img, sigma)\n",
    "\n",
    "fig(1, 2); \n",
    "plt.subplot(1, 2, 1); voxels(img); plt.title('img');\n",
    "\n",
    "center = tuple([[nborder, -nborder] for i in range(ndim)])\n",
    "\n",
    "for math in ('False', 'True'):\n",
    "    xfil, rv  = simg.edge_filter(img, steps, math_condition = math, perc = 100, atol = 5e-1)\n",
    "    fig(1, 3)\n",
    "    plt.subplot(1, 3, 1); voxels(xfil); plt.title('edge fil');\n",
    "    plt.subplot(1, 3, 2); voxels(rv)  ;plt.title('edge fil');\n",
    "    plt.subplot(1, 3, 3); plt.hist(rv.flatten(), 100);\n",
    "    \n",
    "xi = [x[1] for x in np.argwhere(xfil == True)]\n",
    "print('mean ', np.mean(xi), n0)\n",
    "assert np.isclose(np.mean(xi), n0, 1)"
   ]
  },
  {
   "cell_type": "code",
   "execution_count": null,
   "metadata": {},
   "outputs": [],
   "source": [
    "sigma  = 4\n",
    "y0     = 4\n",
    "fun    = lambda x : x[0] - (x[1] - y0)**2\n",
    "ranges = ((0, 10), (0, 10))\n",
    "nbins  = 81\n",
    "\n",
    "img, bins = csources.from_function(fun, nbins, ranges)\n",
    "steps     = [bin[1] - bin[0] for bin in bins]\n",
    "simg      = ndimg.gaussian_filter(img, sigma)\n",
    "xmesh     = cu.ut_mesh(bins)\n",
    "\n",
    "xfil, rv  = sclouds.ridge_filter(simg, steps)\n",
    "\n",
    "\n",
    "# make a 2D histogram\n",
    "fig(2, 2)\n",
    "plt.subplot(2, 2, 1); voxels(simg, bins); plt.title('sigma img')\n",
    "plt.subplot(2, 2, 2);\n",
    "ax1 = ax3d(2, 2, 2)\n",
    "ax1.plot_surface(*xmesh, simg);\n",
    "plt.xlabel('x'); plt.ylabel('y'); plt.title('sigma img');\n",
    "plt.subplot(2, 2, 3); voxels(xfil, bins); plt.title('ridge filter');\n",
    "plt.subplot(2, 2, 4); voxels(rv, bins); plt.title('rv');\n",
    "efig();"
   ]
  }
 ],
 "metadata": {
  "kernelspec": {
   "display_name": "Python 3",
   "language": "python",
   "name": "python3"
  },
  "language_info": {
   "codemirror_mode": {
    "name": "ipython",
    "version": 3
   },
   "file_extension": ".py",
   "mimetype": "text/x-python",
   "name": "python",
   "nbconvert_exporter": "python",
   "pygments_lexer": "ipython3",
   "version": "3.7.9"
  }
 },
 "nbformat": 4,
 "nbformat_minor": 4
}
